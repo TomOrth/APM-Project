{
 "cells": [
  {
   "cell_type": "code",
   "execution_count": 74,
   "metadata": {},
   "outputs": [],
   "source": [
    "%matplotlib inline\n",
    "import matplotlib.pyplot as plt"
   ]
  },
  {
   "cell_type": "code",
   "execution_count": 1,
   "metadata": {},
   "outputs": [],
   "source": [
    "import pandas as pd"
   ]
  },
  {
   "cell_type": "code",
   "execution_count": 4,
   "metadata": {},
   "outputs": [],
   "source": [
    "import glob, os\n",
    "import re"
   ]
  },
  {
   "cell_type": "markdown",
   "metadata": {},
   "source": [
    "## File paths"
   ]
  },
  {
   "cell_type": "code",
   "execution_count": 5,
   "metadata": {},
   "outputs": [],
   "source": [
    "glob_list = []\n",
    "\n",
    "#loop through subject folders and glob\n",
    "for subject in range(25):\n",
    "    glob_list.append(glob.glob(str(subject) + \"\\\\[A-Z0-9]*.csv\"))\n",
    "    \n",
    "#function to flatten glob\n",
    "flatten = lambda l: [item for sublist in l for item in sublist]\n",
    "glob_list = flatten(glob_list)"
   ]
  },
  {
   "cell_type": "code",
   "execution_count": 6,
   "metadata": {},
   "outputs": [],
   "source": [
    "#make a list of tuples of hand pairings\n",
    "lr_pairs = list(zip(*[iter(glob_list)]*2))\n",
    "\n",
    "# remove all blue files\n",
    "for i in range(25):\n",
    "    lr_pairs.remove((str(i)+'\\\\Blue_Left.csv', str(i)+'\\\\Blue_Right.csv'))\n",
    "# remove \"bad\" from subject 19\n",
    "lr_pairs.remove(('19\\\\Bad_Left.csv', '19\\\\Bad_Right.csv'))"
   ]
  },
  {
   "cell_type": "markdown",
   "metadata": {},
   "source": [
    "## Create list of DataFrames"
   ]
  },
  {
   "cell_type": "code",
   "execution_count": 7,
   "metadata": {},
   "outputs": [],
   "source": [
    "df_list = []\n",
    "\n",
    "for pair in lr_pairs:\n",
    "    df_left = pd.read_csv(pair[0], index_col=None).drop(['Unnamed: 0'], axis = 1)\n",
    "    df_right = pd.read_csv(pair[1], index_col=None).drop(['Unnamed: 0'], axis = 1)\n",
    "    \n",
    "    #rename columns\n",
    "    df_left = df_left.add_prefix('left')\n",
    "    df_right = df_right.add_prefix('right')\n",
    "    \n",
    "    #merge\n",
    "    df = pd.merge(df_left, df_right, left_on='leftTime', right_on='rightTime').drop('rightTime', axis = 1)\n",
    "\n",
    "    #covert fist column to time object\n",
    "    df['leftTime'] = pd.to_datetime(df['leftTime'].str[:-3], format = '%H:%M:%S.%f')\n",
    "    \n",
    "    #difference between rows\n",
    "    df = df.diff().iloc[1:]\n",
    "    df['leftTime'] = df['leftTime'].dt.total_seconds()\n",
    "    \n",
    "    df.rename(columns={'leftTime':'time'}, inplace=True)\n",
    "    \n",
    "    #add sign and subject using regex of file name\n",
    "    subject_sign = re.split(r'\\\\', re.findall('^[^_]+(?=_)', pair[0])[0])\n",
    "    df.insert(loc = 0, column = 'Subject', value = subject_sign[0])\n",
    "    df.insert(loc = 0, column = 'Sign', value = subject_sign[1])\n",
    "    \n",
    "#this makes velocity columns\n",
    "\n",
    "#     for col in df.iloc[:,2:]:\n",
    "#         df[col + ' velocity'] = df[col]/df['Time']\n",
    "    \n",
    "    df_list.append(df)"
   ]
  },
  {
   "cell_type": "markdown",
   "metadata": {},
   "source": [
    "## Hand Classification"
   ]
  },
  {
   "cell_type": "code",
   "execution_count": 3,
   "metadata": {},
   "outputs": [],
   "source": [
    "hands_used  = pd.read_csv(\"signs_f.csv\")\n",
    "two_hand = hands_used[hands_used.Both_Hands.notnull()].Sign.values\n",
    "one_hand = hands_used[hands_used.Both_Hands.isnull()].Sign.values"
   ]
  },
  {
   "cell_type": "code",
   "execution_count": 56,
   "metadata": {},
   "outputs": [],
   "source": [
    "class hand_selection:\n",
    "    \n",
    "    def __init__(self, drop_left=False):\n",
    "        self.drop_left = drop_left\n",
    "        \n",
    "    def transform(self, df_list, hand_list):\n",
    "        if not self.drop_left:\n",
    "            subset = [df for df in df_list if df.Sign.values[0] in hand_list]\n",
    "        else:\n",
    "            subset = [df.drop(df.filter(regex='left').columns, axis=1) \\\n",
    "                      for df in df_list \\\n",
    "                      if df.Sign.values[0] in hand_list]\n",
    "            \n",
    "        return subset"
   ]
  },
  {
   "cell_type": "markdown",
   "metadata": {},
   "source": [
    "## Feature Extraction"
   ]
  },
  {
   "cell_type": "code",
   "execution_count": 54,
   "metadata": {},
   "outputs": [],
   "source": [
    "class extraction:\n",
    "    def __init__(self, df):\n",
    "        self.df = df\n",
    "        self.features = dict()\n",
    "        \n",
    "    def label(self):\n",
    "        self.features['label'] = self.df['Sign'].iloc[0]\n",
    "        self.df = self.df.iloc[:, 2:]\n",
    "        \n",
    "    def mean(self):\n",
    "        for col in self.df:\n",
    "            self.features[col + ' mean'] = self.df[col].mean()\n",
    "            \n",
    "    def stdev(self):\n",
    "        for col in self.df:\n",
    "            self.features[col + ' stdev'] = self.df[col].std()\n",
    "            \n",
    "    def extract_features(self):\n",
    "        self.label()\n",
    "        self.mean()\n",
    "        self.stdev()"
   ]
  },
  {
   "cell_type": "code",
   "execution_count": 95,
   "metadata": {},
   "outputs": [],
   "source": [
    "from sklearn.preprocessing import StandardScaler\n",
    "\n",
    "def return_features(df_list, hand_list, drop_left):\n",
    "    scaler = StandardScaler()\n",
    "    \n",
    "    feature_list = []\n",
    "    \n",
    "    select_class = hand_selection(drop_left)\n",
    "    frames = select_class.transform(df_list, hand_list)\n",
    "    \n",
    "    for df in frames:\n",
    "        class_obj = extraction(df)\n",
    "        class_obj.extract_features()\n",
    "        feature_list.append(class_obj.features)\n",
    "        \n",
    "    feat_df = pd.DataFrame(feature_list)\n",
    "    \n",
    "    y = feat_df.label\n",
    "    X = scaler.fit_transform(feat_df.drop(['label'], axis = 1))\n",
    "    \n",
    "    return X, y"
   ]
  },
  {
   "cell_type": "code",
   "execution_count": 96,
   "metadata": {},
   "outputs": [],
   "source": [
    "X_one_hand, y_one_hand = return_features(df_list=df_list, \n",
    "                                         hand_list=one_hand, \n",
    "                                         drop_left=True)\n",
    "\n",
    "X_two_hand, y_two_hand = return_features(df_list=df_list, \n",
    "                                         hand_list=two_hand, \n",
    "                                         drop_left=False)"
   ]
  },
  {
   "cell_type": "markdown",
   "metadata": {},
   "source": [
    "## Model"
   ]
  },
  {
   "cell_type": "code",
   "execution_count": 83,
   "metadata": {},
   "outputs": [],
   "source": [
    "from sklearn.model_selection import train_test_split\n",
    "from sklearn.discriminant_analysis import LinearDiscriminantAnalysis"
   ]
  },
  {
   "cell_type": "markdown",
   "metadata": {},
   "source": [
    "### Two Hand"
   ]
  },
  {
   "cell_type": "code",
   "execution_count": 105,
   "metadata": {},
   "outputs": [],
   "source": [
    "import warnings\n",
    "warnings.filterwarnings('ignore')\n",
    "\n",
    "accuracy = []\n",
    "\n",
    "for i in range(100):\n",
    "    X_train, X_test, y_train, y_test = train_test_split(X_two_hand, \n",
    "                                                        y_two_hand,\n",
    "                                                        stratify=y_two_hand, \n",
    "                                                        test_size=0.25)\n",
    "\n",
    "    clf = LinearDiscriminantAnalysis()\n",
    "    clf.fit(X_train, y_train)\n",
    "    #clf.scalings_\n",
    "    accuracy.append(clf.score(X_test,y_test))"
   ]
  },
  {
   "cell_type": "code",
   "execution_count": 106,
   "metadata": {},
   "outputs": [
    {
     "data": {
      "image/png": "[encoded data removed]",
      "text/plain": [
       "<Figure size 432x288 with 1 Axes>"
      ]
     },
     "metadata": {
      "needs_background": "light"
     },
     "output_type": "display_data"
    }
   ],
   "source": [
    "plt.hist(accuracy, bins=10)\n",
    "plt.show()"
   ]
  },
  {
   "cell_type": "markdown",
   "metadata": {},
   "source": [
    "### One Hand"
   ]
  },
  {
   "cell_type": "code",
   "execution_count": 99,
   "metadata": {},
   "outputs": [],
   "source": [
    "accuracy = []\n",
    "\n",
    "for i in range(100):\n",
    "    X_train, X_test, y_train, y_test = train_test_split(X_one_hand, \n",
    "                                                        y_one_hand,\n",
    "                                                        stratify=y_one_hand, \n",
    "                                                        test_size=0.25)\n",
    "\n",
    "    clf = LinearDiscriminantAnalysis()\n",
    "    clf.fit(X_train, y_train)\n",
    "    #clf.scalings_\n",
    "    accuracy.append(clf.score(X_test,y_test))"
   ]
  },
  {
   "cell_type": "code",
   "execution_count": 102,
   "metadata": {},
   "outputs": [
    {
     "data": {
      "image/png": "[encoded data removed]",
      "text/plain": [
       "<Figure size 432x288 with 1 Axes>"
      ]
     },
     "metadata": {
      "needs_background": "light"
     },
     "output_type": "display_data"
    }
   ],
   "source": [
    "plt.hist(accuracy, bins=10)\n",
    "plt.show()"
   ]
  }
 ],
 "metadata": {
  "kernelspec": {
   "display_name": "Python 3",
   "language": "python",
   "name": "python3"
  },
  "language_info": {
   "codemirror_mode": {
    "name": "ipython",
    "version": 3
   },
   "file_extension": ".py",
   "mimetype": "text/x-python",
   "name": "python",
   "nbconvert_exporter": "python",
   "pygments_lexer": "ipython3",
   "version": "3.7.1"
  }
 },
 "nbformat": 4,
 "nbformat_minor": 2
}
